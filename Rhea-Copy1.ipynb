{
 "cells": [
  {
   "cell_type": "markdown",
   "metadata": {},
   "source": [
    "## Exercises using Rhea"
   ]
  },
  {
   "cell_type": "code",
   "execution_count": 1,
   "metadata": {},
   "outputs": [
    {
     "name": "stderr",
     "output_type": "stream",
     "text": [
      "\u001b[32mINFO    [bioservices.Rhea:363]: \u001b[0m \u001b[32mInitialising Rhea service (REST)\u001b[0m\n"
     ]
    }
   ],
   "source": [
    "import numpy as np\n",
    "from bioservices import Rhea\n",
    "r = Rhea()"
   ]
  },
  {
   "cell_type": "markdown",
   "metadata": {},
   "source": [
    " ## Search about a compound/metabolite"
   ]
  },
  {
   "cell_type": "code",
   "execution_count": 2,
   "metadata": {},
   "outputs": [
    {
     "name": "stdout",
     "output_type": "stream",
     "text": [
      "                                             Equation    EC number  \\\n",
      "0   salicylate + UDP-alpha-D-glucose = salicylate ...          NaN   \n",
      "1   salicylate + UDP-alpha-D-glucose = 1-O-salicyl...          NaN   \n",
      "2   2-hydroxy-6-(2-hydroxyphenyl)-6-oxo-cis,cis-he...   EC:3.7.1.8   \n",
      "3   acetylsalicylate + L-lysyl-[protein] = N(6)-ac...          NaN   \n",
      "4   acetylsalicylate + L-seryl-[protein] = O-acety...          NaN   \n",
      "..                                                ...          ...   \n",
      "60  5-phospho-alpha-D-ribose 1-diphosphate + 4-hyd...  EC:2.4.2.54   \n",
      "61  4-hydroxybenzoate + ATP + H(+) = 4-hydroxybenz...          NaN   \n",
      "62  2-methoxybenzoate + ATP + NADPH + H(+) = 2-met...          NaN   \n",
      "63            4-hydroxybenzoate + H(+) = phenol + CO2  EC:4.1.1.61   \n",
      "64  4-hydroxybenzoate(in) + H(+)(out) = 4-hydroxyb...          NaN   \n",
      "\n",
      "                      Cross-reference (MetaCyc) Cross-reference (KEGG)  \n",
      "0                             MetaCyc:RXN-11658                    NaN  \n",
      "1                             MetaCyc:RXN-11659                    NaN  \n",
      "2                              MetaCyc:R608-RXN            KEGG:R05360  \n",
      "3                                           NaN                    NaN  \n",
      "4                                           NaN                    NaN  \n",
      "..                                          ...                    ...  \n",
      "60                             MetaCyc:RXN-8124            KEGG:R10337  \n",
      "61                                          NaN            KEGG:R11608  \n",
      "62                                          NaN                    NaN  \n",
      "63  MetaCyc:4-HYDROXYBENZOATE-DECARBOXYLASE-RXN            KEGG:R01238  \n",
      "64                       MetaCyc:TRANS-RXN0-233                    NaN  \n",
      "\n",
      "[65 rows x 4 columns]\n"
     ]
    }
   ],
   "source": [
    "df = r.search(\"salicylic acid\", columns='equation,ec,reaction-xref(MetaCyc),reaction-xref(KEGG)')\n",
    "print(df)\n",
    "#df.to_excel('sa.xlsx')"
   ]
  },
  {
   "cell_type": "markdown",
   "metadata": {},
   "source": [
    " ## Query a reaction from the core metabolic model (metacyc to rhea)"
   ]
  },
  {
   "cell_type": "code",
   "execution_count": 3,
   "metadata": {},
   "outputs": [],
   "source": [
    "s=(\"RIBULOSE_BISPHOSPHATE_CARBOXYLASE_RXN_p\").split(\"_p\",1)[0]\n",
    "s1=s.replace('_','-')"
   ]
  },
  {
   "cell_type": "markdown",
   "metadata": {},
   "source": [
    " ## Include the details about the reactions to search"
   ]
  },
  {
   "cell_type": "code",
   "execution_count": 4,
   "metadata": {},
   "outputs": [
    {
     "name": "stdout",
     "output_type": "stream",
     "text": [
      "                                            Equation Reaction identifier  \\\n",
      "0  2 (2R)-3-phosphoglycerate + 2 H(+) = D-ribulos...          RHEA:23124   \n",
      "\n",
      "                                    ChEBI identifier  \n",
      "0  CHEBI:58272;CHEBI:15378;CHEBI:57870;CHEBI:1652...  \n"
     ]
    }
   ],
   "source": [
    "df = r.search(s1,columns='equation,rhea-id,chebi-id')\n",
    "print(df)"
   ]
  },
  {
   "cell_type": "markdown",
   "metadata": {},
   "source": [
    "## Use Rhea to get all the possible information of core model reactions"
   ]
  },
  {
   "cell_type": "code",
   "execution_count": 5,
   "metadata": {},
   "outputs": [
    {
     "name": "stdout",
     "output_type": "stream",
     "text": [
      "  Reaction identifier                                           Equation  \\\n",
      "0          RHEA:14305  tRNA(Pro) + L-proline + ATP = L-prolyl-tRNA(Pr...   \n",
      "\n",
      "                                          ChEBI name  \\\n",
      "0  AMP 3'-end residue;L-proline;ATP;3'-(L-prolyl)...   \n",
      "\n",
      "                                    ChEBI identifier    EC number  Enzymes  \\\n",
      "0  CHEBI:78442;CHEBI:60039;CHEBI:30616;CHEBI:7853...  EC:6.1.1.15    53322   \n",
      "\n",
      "                                PubMed         Cross-reference (EcoCyc)  \\\n",
      "0  14217147;17027500;16749091;10966471  EcoCyc:PROLINE--TRNA-LIGASE-RXN   \n",
      "\n",
      "          Cross-reference (MetaCyc) Cross-reference (KEGG)  \\\n",
      "0  MetaCyc:PROLINE--TRNA-LIGASE-RXN            KEGG:R03661   \n",
      "\n",
      "   Cross-reference (Reactome)  \n",
      "0                         NaN  \n"
     ]
    }
   ],
   "source": [
    "df_new = r.query(\"PROLINE--TRNA-LIGASE-RXN\")\n",
    "print(df_new)\n",
    "#print(df['Equation'])\n",
    "#df_new.to_csv('rhea.csv')"
   ]
  },
  {
   "cell_type": "markdown",
   "metadata": {},
   "source": [
    "## Connection to CheBI - to get metabolite information"
   ]
  },
  {
   "cell_type": "code",
   "execution_count": 6,
   "metadata": {},
   "outputs": [
    {
     "name": "stdout",
     "output_type": "stream",
     "text": [
      "['CHEBI:78442', 'CHEBI:60039', 'CHEBI:30616', 'CHEBI:78532', 'CHEBI:456215', 'CHEBI:33019']\n",
      "[\"AMP 3'-end residue\", 'L-proline', 'ATP', \"3'-(L-prolyl)adenylyl group\", 'AMP', 'diphosphate']\n"
     ]
    }
   ],
   "source": [
    "met_all=df_new['ChEBI identifier'][0]\n",
    "mets=met_all.split(';',)\n",
    "print(mets)\n",
    "mets_names=df_new['ChEBI name'][0].split(';',)\n",
    "print(mets_names)"
   ]
  },
  {
   "cell_type": "markdown",
   "metadata": {},
   "source": [
    "## Extract information about the metabolites charge and formula in the reactions using Chebi database"
   ]
  },
  {
   "cell_type": "code",
   "execution_count": 7,
   "metadata": {},
   "outputs": [],
   "source": [
    "from bioservices import ChEBI\n",
    "c = ChEBI()"
   ]
  },
  {
   "cell_type": "markdown",
   "metadata": {},
   "source": [
    "##  Extract metabolites information"
   ]
  },
  {
   "cell_type": "code",
   "execution_count": 10,
   "metadata": {},
   "outputs": [
    {
     "name": "stdout",
     "output_type": "stream",
     "text": [
      "AMP 3'-end residue\n",
      "[(DataItem){\n",
      "   data = \"C10H12N5O6P\"\n",
      "   source = \"ChEBI\"\n",
      " }]\n",
      "-1\n",
      "L-proline\n",
      "[(DataItem){\n",
      "   data = \"C5H9NO2\"\n",
      "   source = \"ChEBI\"\n",
      " }]\n",
      "0\n",
      "ATP\n",
      "[(DataItem){\n",
      "   data = \"C10H12N5O13P3\"\n",
      "   source = \"ChEBI\"\n",
      " }]\n",
      "-4\n",
      "3'-(L-prolyl)adenylyl group\n",
      "[(DataItem){\n",
      "   data = \"C15H20N6O7P\"\n",
      "   source = \"ChEBI\"\n",
      " }]\n",
      "0\n",
      "AMP\n",
      "[(DataItem){\n",
      "   data = \"C10H12N5O7P\"\n",
      "   source = \"ChEBI\"\n",
      " }]\n",
      "-2\n",
      "diphosphate\n",
      "[(DataItem){\n",
      "   data = \"HO7P2\"\n",
      "   source = \"ChEBI\"\n",
      " }]\n",
      "-3\n"
     ]
    }
   ],
   "source": [
    "for i in np.arange(len(mets)):\n",
    "     print(mets_names[i])\n",
    "     print(c.getCompleteEntity(mets[i]).Formulae)\n",
    "     print(c.getCompleteEntity(mets[i]).charge)\n",
    "     "
   ]
  },
  {
   "cell_type": "code",
   "execution_count": null,
   "metadata": {},
   "outputs": [],
   "source": []
  }
 ],
 "metadata": {
  "kernelspec": {
   "display_name": "Python 3",
   "language": "python",
   "name": "python3"
  },
  "language_info": {
   "codemirror_mode": {
    "name": "ipython",
    "version": 3
   },
   "file_extension": ".py",
   "mimetype": "text/x-python",
   "name": "python",
   "nbconvert_exporter": "python",
   "pygments_lexer": "ipython3",
   "version": "3.8.8"
  }
 },
 "nbformat": 4,
 "nbformat_minor": 2
}
