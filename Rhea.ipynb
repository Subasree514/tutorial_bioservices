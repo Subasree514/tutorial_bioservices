{
 "cells": [
  {
   "cell_type": "markdown",
   "metadata": {},
   "source": [
    "## Exercises using Rhea\n",
    "\n",
    "Refer to https://bioservices.readthedocs.io/en/latest/_modules/bioservices/chebi.html for CheBI and https://bioservices.readthedocs.io/en/latest/_modules/bioservices/rhea.html for Rhea"
   ]
  },
  {
   "cell_type": "code",
   "execution_count": null,
   "metadata": {},
   "outputs": [],
   "source": [
    "import numpy as np\n",
    "from bioservices import Rhea\n",
    "r = Rhea()"
   ]
  },
  {
   "cell_type": "markdown",
   "metadata": {},
   "source": [
    " ## Search about a compound/metabolite"
   ]
  },
  {
   "cell_type": "code",
   "execution_count": null,
   "metadata": {},
   "outputs": [],
   "source": [
    "## use salicylic acid for example\n",
    "df = r.search(\"mymetabolite\", columns='equation,ec,reaction-xref(MetaCyc),reaction-xref(KEGG)') \n",
    "print(df)\n",
    "#df.to_excel('') "
   ]
  },
  {
   "cell_type": "markdown",
   "metadata": {},
   "source": [
    " ## Query a reaction from the core metabolic model (metacyc to rhea)"
   ]
  },
  {
   "cell_type": "code",
   "execution_count": null,
   "metadata": {},
   "outputs": [],
   "source": [
    "## use RIBULOSE_BISPHOSPHATE_CARBOXYLASE_RXN_p for example\n",
    "#s=(\"yourreaction\").split(\"_p\",1)[0] ## remove the compartment name, then convert underscore to hyphen\n",
    "#s1=s.replace('_','-')\n",
    "\n",
    "## use a aracyc/metacyc reaction id\n",
    "s1=\"myreaction\" ## use RIBULOSE-BISPHOSPHATE-CARBOXYLASE-RXN for example"
   ]
  },
  {
   "cell_type": "markdown",
   "metadata": {},
   "source": [
    " ## Include the details about the reactions to search"
   ]
  },
  {
   "cell_type": "code",
   "execution_count": null,
   "metadata": {},
   "outputs": [],
   "source": [
    "df = r.search(s1,columns='equation,rhea-id,chebi-id')\n",
    "print(df)"
   ]
  },
  {
   "cell_type": "markdown",
   "metadata": {},
   "source": [
    "## Use Rhea to get all the possible information of core model reactions"
   ]
  },
  {
   "cell_type": "code",
   "execution_count": null,
   "metadata": {},
   "outputs": [],
   "source": [
    "## use a proper aracyc/metacyc reaction id\n",
    "df_new = r.query(\"myreaction\") ## use PROLINE--TRNA-LIGASE-RXN for example\n",
    "print(df_new)\n",
    "#df_new.to_csv('')"
   ]
  },
  {
   "cell_type": "markdown",
   "metadata": {},
   "source": [
    "## Connection to CheBI - to get metabolite information"
   ]
  },
  {
   "cell_type": "code",
   "execution_count": null,
   "metadata": {},
   "outputs": [],
   "source": [
    "met_all=df_new['ChEBI identifier'][0] ## get the list of chebi ids\n",
    "mets=met_all.split(';',)\n",
    "print(mets)\n",
    "mets_names=df_new['ChEBI name'][0].split(';',) ## get the list of metabolite names\n",
    "print(mets_names)"
   ]
  },
  {
   "cell_type": "markdown",
   "metadata": {},
   "source": [
    "## Extract information about the metabolites charge and formula in the reactions using Chebi database"
   ]
  },
  {
   "cell_type": "code",
   "execution_count": null,
   "metadata": {},
   "outputs": [],
   "source": [
    "from bioservices import ChEBI\n",
    "c = ChEBI()"
   ]
  },
  {
   "cell_type": "markdown",
   "metadata": {},
   "source": [
    "##  Extract metabolites information"
   ]
  },
  {
   "cell_type": "code",
   "execution_count": null,
   "metadata": {},
   "outputs": [],
   "source": [
    "for i in np.arange(len(mets)):\n",
    "     print(mets_names[i])\n",
    "     print(c.getCompleteEntity(mets[i]).Formulae)\n",
    "     print(c.getCompleteEntity(mets[i]).charge)\n"
   ]
  },
  {
   "cell_type": "code",
   "execution_count": null,
   "metadata": {},
   "outputs": [],
   "source": []
  }
 ],
 "metadata": {
  "kernelspec": {
   "display_name": "Python 3",
   "language": "python",
   "name": "python3"
  },
  "language_info": {
   "codemirror_mode": {
    "name": "ipython",
    "version": 3
   },
   "file_extension": ".py",
   "mimetype": "text/x-python",
   "name": "python",
   "nbconvert_exporter": "python",
   "pygments_lexer": "ipython3",
   "version": "3.8.8"
  }
 },
 "nbformat": 4,
 "nbformat_minor": 2
}
