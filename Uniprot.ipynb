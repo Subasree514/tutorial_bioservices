{
 "cells": [
  {
   "cell_type": "markdown",
   "metadata": {},
   "source": [
    "# Exercises on UniProt"
   ]
  },
  {
   "cell_type": "code",
   "execution_count": 1,
   "metadata": {},
   "outputs": [],
   "source": [
    "from bioservices.services import REST\n",
    "from bioservices import logger\n",
    "from bioservices import UniProt\n",
    "u = UniProt(verbose=False)"
   ]
  },
  {
   "cell_type": "markdown",
   "metadata": {},
   "source": [
    "## Refer to the hormone pathway image for picking genes "
   ]
  },
  {
   "cell_type": "markdown",
   "metadata": {},
   "source": [
    "## Organism id for tailored search :  ORYSJ for Rice, ARATH for A.thaliana"
   ]
  },
  {
   "cell_type": "code",
   "execution_count": null,
   "metadata": {},
   "outputs": [],
   "source": [
    "## gene 1 - a metabolic gene\n",
    "## use HXK for example\n",
    "df = u.get_df('mygene',100,'ARATH',5,'Entry,Gene Names,Protein names,EC number,Activity regulation,Cofactor,Pathway')\n",
    "print(df)\n",
    "## Save into csv or excel for future uses\n",
    "#df.to_csv('')"
   ]
  },
  {
   "cell_type": "code",
   "execution_count": null,
   "metadata": {},
   "outputs": [],
   "source": [
    "## gene 2 a non-metabolic\n",
    "## use ETR1 for example\n",
    "df_new=u.search(\"mygene\", frmt=\"tsv\", limit=2,    columns=\"id, gene_names,organism_name,ec,cc_activity_regulation,cc_cofactor,cc_function,cc_pathway,cc_subcellular_location\",sort='score')\n",
    "\n",
    "## ORGANISM specific gene (gene_organismid) eg:etr1_arath\n",
    "#df_new=u.search(\"yourgene\", frmt=\"tsv\", limit=2,    columns=\"id, gene_names,ec,cc_activity_regulation,cc_cofactor,cc_function,cc_pathway,cc_subcellular_location\",sort='score') \n",
    "\n",
    "print(df_new)"
   ]
  },
  {
   "cell_type": "markdown",
   "metadata": {},
   "source": [
    "## Print fasta sequences of all the entries of gene 1"
   ]
  },
  {
   "cell_type": "code",
   "execution_count": null,
   "metadata": {},
   "outputs": [],
   "source": [
    "## Print fasta sequences of all the entries of hxk\n",
    "for i in df['Entry']:\n",
    "    fasta = u.retrieve(i, frmt='fasta')\n",
    "    print(fasta)"
   ]
  },
  {
   "cell_type": "code",
   "execution_count": null,
   "metadata": {},
   "outputs": [],
   "source": []
  }
 ],
 "metadata": {
  "kernelspec": {
   "display_name": "Python 3",
   "language": "python",
   "name": "python3"
  },
  "language_info": {
   "codemirror_mode": {
    "name": "ipython",
    "version": 3
   },
   "file_extension": ".py",
   "mimetype": "text/x-python",
   "name": "python",
   "nbconvert_exporter": "python",
   "pygments_lexer": "ipython3",
   "version": "3.8.8"
  }
 },
 "nbformat": 4,
 "nbformat_minor": 2
}
