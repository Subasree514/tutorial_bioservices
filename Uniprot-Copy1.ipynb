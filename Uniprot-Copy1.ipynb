{
 "cells": [
  {
   "cell_type": "markdown",
   "metadata": {},
   "source": [
    "# Exercises on UniProt"
   ]
  },
  {
   "cell_type": "code",
   "execution_count": 1,
   "metadata": {},
   "outputs": [],
   "source": [
    "from bioservices.services import REST\n",
    "from bioservices import logger\n",
    "from bioservices import UniProt\n",
    "u = UniProt(verbose=False)"
   ]
  },
  {
   "cell_type": "markdown",
   "metadata": {},
   "source": [
    "## Refer to the hormone pathway image for picking genes "
   ]
  },
  {
   "cell_type": "markdown",
   "metadata": {},
   "source": [
    "## Organism id for tailored search :  ORYSJ for Rice, ARATH for A.thaliana"
   ]
  },
  {
   "cell_type": "code",
   "execution_count": 2,
   "metadata": {},
   "outputs": [
    {
     "name": "stdout",
     "output_type": "stream",
     "text": [
      "    Entry                      Gene Names  \\\n",
      "0  Q42525  HXK1 GIN2 At4g29130 F19B15.160   \n",
      "1  P93834         HXK2 At2g19860 F6F22.11   \n",
      "2  Q9LPS1   HXK3 HKL1 At1g50460 F11F12.18   \n",
      "3  Q56XE8               At3g20040 MAL21.4   \n",
      "\n",
      "                                       Protein names EC number  \\\n",
      "0  Hexokinase-1 (EC 2.7.1.1) (Protein GLUCOSE INS...   2.7.1.1   \n",
      "1                          Hexokinase-2 (EC 2.7.1.1)   2.7.1.1   \n",
      "2      Hexokinase-3 (EC 2.7.1.1) (Hexokinase-like 1)   2.7.1.1   \n",
      "3                          Hexokinase-4 (EC 2.7.1.1)   2.7.1.1   \n",
      "\n",
      "   Activity regulation  Cofactor  \\\n",
      "0                  NaN       NaN   \n",
      "1                  NaN       NaN   \n",
      "2                  NaN       NaN   \n",
      "3                  NaN       NaN   \n",
      "\n",
      "                                             Pathway  \n",
      "0  PATHWAY: Carbohydrate metabolism; hexose metab...  \n",
      "1  PATHWAY: Carbohydrate metabolism; hexose metab...  \n",
      "2  PATHWAY: Carbohydrate metabolism; hexose metab...  \n",
      "3  PATHWAY: Carbohydrate metabolism; hexose metab...  \n"
     ]
    }
   ],
   "source": [
    "## gene 1\n",
    "df = u.get_df('HXK',100,'ARATH',5,'Entry,Gene Names,Protein names,EC number,Activity regulation,Cofactor,Pathway')\n",
    "print(df)\n",
    "## Save into csv or excel for future uses\n",
    "#df.to_csv('hxk_5.csv')"
   ]
  },
  {
   "cell_type": "code",
   "execution_count": 4,
   "metadata": {},
   "outputs": [
    {
     "name": "stdout",
     "output_type": "stream",
     "text": [
      "Entry Name\tGene Names\tEC number\tActivity regulation\tCofactor\tFunction [CC]\tPathway\tSubcellular location [CC]\n",
      "ETR1_ARATH\tETR1 At1g66340 T27F4.9\t2.7.13.3\t\tCOFACTOR: Name=Cu cation; Xref=ChEBI:CHEBI:23378; Evidence={ECO:0000269|PubMed:9974395}; Note=Binds 1 copper ion per dimer. {ECO:0000269|PubMed:9974395};\tFUNCTION: Ethylene receptor related to bacterial two-component regulators. Acts as a redundant negative regulator of ethylene signaling (PubMed:15466228, PubMed:15703053). In the presence of ethylene, the auto-kinase activity of ETR1 is inhibited and the non-phosphorylated kinase domain binds tightly to the corresponding domain of EIN2 (PubMed:20591837). {ECO:0000269|PubMed:15466228, ECO:0000269|PubMed:15703053, ECO:0000269|PubMed:20591837}.\t\tSUBCELLULAR LOCATION: Endoplasmic reticulum membrane {ECO:0000269|PubMed:11916973, ECO:0000269|PubMed:19769567}; Multi-pass membrane protein {ECO:0000255}.\n"
     ]
    }
   ],
   "source": [
    "## gene 2\n",
    "#df_new=u.search(\"etr1\", frmt=\"tsv\", limit=2,    columns=\"id, gene_names,organism_name,ec,cc_activity_regulation,cc_cofactor,cc_function,cc_pathway,cc_subcellular_location\",sort='score')\n",
    "\n",
    "## ORGANISM specific gene\n",
    "df_new=u.search(\"etr1_arath\", frmt=\"tsv\", limit=2,    columns=\"id, gene_names,ec,cc_activity_regulation,cc_cofactor,cc_function,cc_pathway,cc_subcellular_location\",sort='score') \n",
    "\n",
    "print(df_new)"
   ]
  },
  {
   "cell_type": "markdown",
   "metadata": {},
   "source": [
    "# Print fasta sequences of all the entries of HXK"
   ]
  },
  {
   "cell_type": "code",
   "execution_count": 5,
   "metadata": {},
   "outputs": [
    {
     "name": "stdout",
     "output_type": "stream",
     "text": [
      ">sp|Q42525|HXK1_ARATH Hexokinase-1 OS=Arabidopsis thaliana OX=3702 GN=HXK1 PE=1 SV=2\n",
      "MGKVAVGATVVCTAAVCAVAVLVVRRRMQSSGKWGRVLAILKAFEEDCATPISKLRQVAD\n",
      "AMTVEMHAGLASDGGSKLKMLISYVDNLPSGDEKGLFYALDLGGTNFRVMRVLLGGKQER\n",
      "VVKQEFEEVSIPPHLMTGGSDELFNFIAEALAKFVATECEDFHLPEGRQRELGFTFSFPV\n",
      "KQTSLSSGSLIKWTKGFSIEEAVGQDVVGALNKALERVGLDMRIAALVNDTVGTLAGGRY\n",
      "YNPDVVAAVILGTGTNAAYVERATAIPKWHGLLPKSGEMVINMEWGNFRSSHLPLTEFDH\n",
      "TLDFESLNPGEQILEKIISGMYLGEILRRVLLKMAEDAAFFGDTVPSKLRIPFIIRTPHM\n",
      "SAMHNDTSPDLKIVGSKIKDILEVPTTSLKMRKVVISLCNIIATRGARLSAAGIYGILKK\n",
      "LGRDTTKDEEVQKSVIAMDGGLFEHYTQFSECMESSLKELLGDEASGSVEVTHSNDGSGI\n",
      "GAALLAASHSLYLEDS\n",
      "\n",
      ">sp|P93834|HXK2_ARATH Hexokinase-2 OS=Arabidopsis thaliana OX=3702 GN=HXK2 PE=1 SV=1\n",
      "MGKVAVATTVVCSVAVCAAAALIVRRRMKSAGKWARVIEILKAFEEDCATPIAKLRQVAD\n",
      "AMTVEMHAGLASEGGSKLKMLISYVDNLPSGDETGFFYALDLGGTNFRVMRVLLGGKHDR\n",
      "VVKREFKEESIPPHLMTGKSHELFDFIVDVLAKFVATEGEDFHLPPGRQRELGFTFSFPV\n",
      "KQLSLSSGTLINWTKGFSIDDTVDKDVVGELVKAMERVGLDMLVAALVNDTIGTLAGGRY\n",
      "TNPDVVVAVILGTGTNAAYVERAHAIPKWHGLLPKSGEMVINMEWGNFRSSHLPLTEYDH\n",
      "SLDVDSLNPGEQILEKIISGMYLGEILRRVLLKMAEEAAFFGDIVPPKLKIPFIIRTPNM\n",
      "SAMHSDTSPDLKVVGSKLKDILEVQTSSLKMRKVVISLCNIIASRGARLSAAGIYGILKK\n",
      "IGRDATKDGEAQKSVIAMDGGLFEHYTQFSESMKSSLKELLGDEVSESVEVILSNDGSGV\n",
      "GAALLAASHSQYLELEDDSETS\n",
      "\n",
      ">sp|Q9LPS1|HXK3_ARATH Hexokinase-3 OS=Arabidopsis thaliana OX=3702 GN=HXK3 PE=1 SV=1\n",
      "MGKVAVAFAAVAVVAACSVAAVMVGRRMKSRRKWRTVVEILKELEDDCDTPVGRLRQVVD\n",
      "AMAVEMHAGLASEGGSKLKMLLTFVDDLPTGREKGTYYALHLGGTYFRILRVLLGDQRSY\n",
      "LDVQDVERHPIPSHLMNSTSEVLFNFLAFSLERFIEKEENGSDSQGVRRELAFTFSFPVK\n",
      "HTSISSGVLIKWTKGFEISEMVGQDIAECLQGALNRRGLDMHVAALVNDTVGALSLGYYH\n",
      "DPDTVVAVVFGTGSNACYLERTDAIIKCQGLLTTSGSMVVNMEWGNFWSSHLPRTSYDID\n",
      "LDAESSNANDMGFEKMISGMYLGDIVRRVILRMSEDSDIFGPISPVLSEPYVLRTNSVSA\n",
      "IHEDDTPELQEVARILKDIGVSDVPLKVRKLVVKICDVVTRRAGRLAAAGIAGILKKIGR\n",
      "DGSGGITSGRSRSEIQMQKRTVVAVEGGLYMNYTMFREYMEEALVEILGEEVSQYVVVKA\n",
      "MEDGSSIGSALLVASLQS\n",
      "\n",
      ">sp|Q56XE8|HXK4_ARATH Hexokinase-4 OS=Arabidopsis thaliana OX=3702 GN=At3g20040 PE=1 SV=2\n",
      "MGKVLVMLTAAAAVVACSVATVMVRRRMKGRRKWRRVVGLLKDLEEACETPLGRLRQMVD\n",
      "AIAVEMQAGLVSEGGSKLKMLLTFVDDLPNGSETGTYYALHLGGSYFRIIKVHLGGQRSS\n",
      "LEVQDVERHSIPTSLMNSTSEVLFDFLASSLQRFIEKEGNDFSLSQPLKRELAFTFSFPV\n",
      "KQTSISSGVLIKWTKGFAISEMAGEDIAECLQGALNKRGLDIRVAALVNDTVGALSFGHF\n",
      "HDPDTIAAVVFGTGSNACYLERTDAIIKCQNPRTTSGSMVVNMEWGNFWSSRLPRTSYDL\n",
      "ELDAESMNSNDMGFEKMIGGMYLGDIVRRVILRMSQESDIFGPISSILSTPFVLRTNSVS\n",
      "AMHEDDTSELQEVARILKDLGVSEVPMKVRKLVVKICDVVTRRAARLAAAGIAGILKKVG\n",
      "RDGSGGGRRSDKQIMRRTVVAVEGGLYLNYRMFREYMDEALRDILGEDVAQHVVVKAMED\n",
      "GSSIGSALLLASSQSVQTIPSV\n",
      "\n"
     ]
    }
   ],
   "source": [
    "## Print fasta sequences of all the entries of HXK\n",
    "for i in df['Entry']:\n",
    "    fasta = u.retrieve(i, frmt='fasta')\n",
    "    print(fasta)"
   ]
  },
  {
   "cell_type": "code",
   "execution_count": null,
   "metadata": {},
   "outputs": [],
   "source": []
  }
 ],
 "metadata": {
  "kernelspec": {
   "display_name": "Python 3",
   "language": "python",
   "name": "python3"
  },
  "language_info": {
   "codemirror_mode": {
    "name": "ipython",
    "version": 3
   },
   "file_extension": ".py",
   "mimetype": "text/x-python",
   "name": "python",
   "nbconvert_exporter": "python",
   "pygments_lexer": "ipython3",
   "version": "3.8.8"
  }
 },
 "nbformat": 4,
 "nbformat_minor": 2
}
